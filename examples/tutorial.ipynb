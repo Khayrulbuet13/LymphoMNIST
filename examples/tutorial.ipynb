{
 "cells": [
  {
   "cell_type": "markdown",
   "metadata": {},
   "source": [
    "# Step 1: Setting Up Your Environment\n",
    "\n",
    "Welcome to the tutorial on utilizing our custom package for dataset acquisition and training a ResNet model. This guide is designed to help you seamlessly set up your environment, ensuring you have all the necessary tools and packages installed to begin your journey in deep learning with our specialized dataset. Whether you are an experienced data scientist or just starting out, this step-by-step tutorial will walk you through the process of preparing your workspace for optimal performance and ease of use. Let's get started on setting up your environment to unlock the full potential of our resources.\n",
    "\n"
   ]
  },
  {
   "cell_type": "code",
   "execution_count": null,
   "metadata": {},
   "outputs": [],
   "source": [
    "# setting up the other dependencies\n",
    "!pip install torch torchvision Pillow numpy tqdm requests matplotlib"
   ]
  },
  {
   "cell_type": "code",
   "execution_count": null,
   "metadata": {},
   "outputs": [],
   "source": [
    "# instaling our package\n",
    "!pip install LymphoMNIST"
   ]
  },
  {
   "cell_type": "markdown",
   "metadata": {},
   "source": [
    "# Step 2: Loading the Dataset\n",
    "\n",
    "This section guides you through loading the dataset with the `LymphoMNIST` package, designed for ResNet model training. We'll cover importing essential libraries and applying necessary transformations using `torchvision` to resize images and convert them to tensors for neural network compatibility.\n",
    "\n",
    "We initialize the `LymphoMNIST` dataset, detailing parameters like the root directory, data type (training), and transformations. Aimed at advancing medical imaging, this dataset focuses on lymphocyte segmentation and classification. Specifying `num_classes` is optional; by default, or if no parameter is passed, three classes (`B`, `T4`, `T8` cells) will be loaded. For `num_classes=3`, it loads these three classes, and for `num_classes=2`, it loads `B` and `T` cells by merging `T4` and `T8` into same class.\n",
    "\n",
    "The provided code snippet sets up a data loader, optimizing batch size and class selection for efficient training. With the dataset properly formatted and loaded, you're now set for the model training phase.\n"
   ]
  },
  {
   "cell_type": "code",
   "execution_count": null,
   "metadata": {},
   "outputs": [],
   "source": [
    "# Lets import the packages\n",
    "import torch\n",
    "from torchvision import transforms\n",
    "from LymphoMNIST.LymphoMNIST import LymphoMNIST\n",
    "\n",
    "# check LymphoMNIST virsion\n",
    "import LymphoMNIST as info\n",
    "print(f\"LymphoMNIST v{info.__version__} @ {info.HOMEPAGE}\")"
   ]
  },
  {
   "cell_type": "code",
   "execution_count": null,
   "metadata": {},
   "outputs": [],
   "source": [
    "# Define transformations\n",
    "transform = transforms.Compose([\n",
    "    transforms.Resize((224, 224)),  # Resize images to fit ResNet18 input\n",
    "    transforms.ToTensor(),\n",
    "])\n",
    "\n",
    "# Initialize dataset\n",
    "test_dataset = LymphoMNIST(root='./te', train=True, download=True, transform=transform, num_classes=3)\n",
    "data_loader = torch.utils.data.DataLoader(test_dataset, batch_size=64, shuffle=True, num_workers=2)\n"
   ]
  },
  {
   "cell_type": "markdown",
   "metadata": {},
   "source": [
    "# Step 3: Data Manipulation and Visualization\n",
    "\n",
    "Data visualization is a crucial step in understanding and interpreting the characteristics of your dataset. This section introduces a method to manipulate and visually inspect the images within the `LymphoMNIST` dataset. Through the use of `matplotlib`, we provide a practical approach to plot a grid of images directly from the data loader, allowing for a quick and informative overview of the dataset's content.\n",
    "\n",
    "The provided function, `plot_dl`, dynamically generates a square grid of images, up to `n` by `n`, showcasing random samples from the dataset. This visual inspection tool is enhanced with optional label mapping, offering clear identification of each image's class based on the dataset's `classes` attribute. Whether dealing with color or grayscale images, the function adjusts to display each sample appropriately, ensuring a comprehensive view of the dataset's diversity.\n",
    "\n",
    "This visualization capability is essential for initial data exploration, facilitating a deeper understanding of the dataset structure and composition, crucial for effective model training and evaluation.\n"
   ]
  },
  {
   "cell_type": "code",
   "execution_count": null,
   "metadata": {},
   "outputs": [],
   "source": [
    "# Print the shape of the batch in the format [batch_size, channels, height, width]\n",
    "images, labels = next(iter(data_loader))\n",
    "print(f\"Shape of the dataset batch: {images.shape}\")\n",
    "\n",
    "# number of batches\n",
    "print(f\"Number of batches: {len(data_loader)}\")"
   ]
  },
  {
   "cell_type": "code",
   "execution_count": null,
   "metadata": {},
   "outputs": [],
   "source": [
    "import matplotlib.pyplot as plt\n",
    "import torch\n",
    "\n",
    "def plot_dl(dl, labels_map=None, n=3):\n",
    "    figure = plt.figure(figsize=(10, 10))  # Set figure size for better visibility\n",
    "    cols, rows = n, n\n",
    "    \n",
    "    # Ensure we get n*n images; if the dataloader doesn't have enough, reduce n accordingly\n",
    "    total_images = min(len(dl.dataset), n*n)\n",
    "    cols, rows = n, min(total_images, n)\n",
    "    \n",
    "    for i in range(1, cols * rows + 1):\n",
    "        # Directly accessing the dataset for random samples\n",
    "        sample_idx = torch.randint(len(dl.dataset), size=(1,)).item()\n",
    "        img, label = dl.dataset[sample_idx]\n",
    "        \n",
    "        figure.add_subplot(rows, cols, i)\n",
    "        if labels_map:\n",
    "            plt.title(labels_map[label.item()])\n",
    "        else:\n",
    "            plt.title(label.item())\n",
    "        plt.axis(\"off\")\n",
    "        if img.shape[0] == 3:  # If it's a color image\n",
    "            plt.imshow(img.permute(1, 2, 0))  # Convert from CxHxW to HxWxC\n",
    "        else:  # If it's a grayscale image\n",
    "            plt.imshow(img.squeeze(), cmap=\"gray\")  # Remove channel dim if it's present\n",
    "    \n",
    "    plt.show()\n",
    "\n",
    "# Generate a label map from the dataset's classes attribute\n",
    "labels_map = {i: cls for i, cls in enumerate(test_dataset.classes)}\n",
    "\n",
    "plot_dl(data_loader,labels_map, n=3)\n"
   ]
  },
  {
   "cell_type": "markdown",
   "metadata": {},
   "source": [
    "# Conclusion\n",
    "\n",
    "Hey, you've made it to the end of our tutorial! By now, you've got everything set up, a solid grasp on how to load and work with the `LymphoMNIST` dataset, and the know-how to visualize the data. \n",
    "\n",
    "Throughout this guide, we tackled the basics from setting up your environment, to getting the dataset ready with the right transformations, and even playing around with data visualization. \n",
    "\n",
    "Thanks for sticking with me through this tutorial. Can't wait to see the cool stuff you'll do with these dataset in your projects!\n"
   ]
  }
 ],
 "metadata": {
  "kernelspec": {
   "display_name": "torch",
   "language": "python",
   "name": "python3"
  },
  "language_info": {
   "codemirror_mode": {
    "name": "ipython",
    "version": 3
   },
   "file_extension": ".py",
   "mimetype": "text/x-python",
   "name": "python",
   "nbconvert_exporter": "python",
   "pygments_lexer": "ipython3",
   "version": "3.10.12"
  }
 },
 "nbformat": 4,
 "nbformat_minor": 2
}
